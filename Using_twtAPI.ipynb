{
 "cells": [
  {
   "cell_type": "code",
   "execution_count": 1,
   "id": "1a26cdf2",
   "metadata": {},
   "outputs": [],
   "source": [
    "import tweepy\n",
    "import numpy as np\n",
    "import pandas as pd\n",
    "import re\n",
    "\n",
    "import matplotlib.pyplot as plt\n",
    "import seaborn as sns\n",
    "from textblob import TextBlob\n",
    "\n",
    "%matplotlib inline"
   ]
  },
  {
   "cell_type": "code",
   "execution_count": 4,
   "id": "620af572",
   "metadata": {},
   "outputs": [],
   "source": [
    "#reading api keys/loading authenticating data\n",
    "log = pd.read_excel('keys.xlsx')\n",
    "#log"
   ]
  },
  {
   "cell_type": "code",
   "execution_count": 5,
   "id": "8b71edd9",
   "metadata": {},
   "outputs": [],
   "source": [
    "#get twitter apt credentials\n",
    "consumer_key = log['ConsumerKey'][0]\n",
    "consumer_secret = log['ConsumerKeySecret'][0]\n",
    "access_token = log['AccessToken'][0]\n",
    "access_token_secret = log['AccessTokenSecret'][0]"
   ]
  },
  {
   "cell_type": "code",
   "execution_count": null,
   "id": "c7876a4e",
   "metadata": {},
   "outputs": [],
   "source": []
  }
 ],
 "metadata": {
  "kernelspec": {
   "display_name": "Python 3 (ipykernel)",
   "language": "python",
   "name": "python3"
  },
  "language_info": {
   "codemirror_mode": {
    "name": "ipython",
    "version": 3
   },
   "file_extension": ".py",
   "mimetype": "text/x-python",
   "name": "python",
   "nbconvert_exporter": "python",
   "pygments_lexer": "ipython3",
   "version": "3.9.13"
  }
 },
 "nbformat": 4,
 "nbformat_minor": 5
}
